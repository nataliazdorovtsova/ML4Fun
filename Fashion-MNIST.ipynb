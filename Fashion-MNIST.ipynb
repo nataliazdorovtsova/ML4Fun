{
 "cells": [
  {
   "cell_type": "code",
   "execution_count": 1,
   "metadata": {},
   "outputs": [],
   "source": [
    "# Fashion-MNIST solution - import packages\n",
    "import numpy as np\n",
    "import torch\n",
    "import torch.nn as nn\n",
    "import torch.nn.functional as F\n",
    "import torch.optim as optim\n",
    "import torchvision as tv\n",
    "import matplotlib.pyplot as plt"
   ]
  },
  {
   "cell_type": "code",
   "execution_count": 48,
   "metadata": {},
   "outputs": [],
   "source": [
    "# Create dataloaders for Fashion-MNIST dataset\n",
    "train_dataset = tv.datasets.FashionMNIST(root='./data', train=True, download=True, transform=tv.transforms.ToTensor())\n",
    "test_dataset = tv.datasets.FashionMNIST(root='./data', train=False, download=True, transform=tv.transforms.ToTensor())\n",
    "train_loader = torch.utils.data.DataLoader(train_dataset, batch_size=32, shuffle=True, num_workers=2)\n",
    "test_loader = torch.utils.data.DataLoader(test_dataset, batch_size=32, shuffle=False, num_workers=2)"
   ]
  },
  {
   "cell_type": "code",
   "execution_count": 50,
   "metadata": {},
   "outputs": [
    {
     "name": "stdout",
     "output_type": "stream",
     "text": [
      "torch.Size([1, 28, 28])\n",
      "Shirt\n"
     ]
    },
    {
     "data": {
      "image/png": "[encoded data removed]",
      "text/plain": [
       "<Figure size 640x480 with 1 Axes>"
      ]
     },
     "metadata": {},
     "output_type": "display_data"
    }
   ],
   "source": [
    "# Look at dimensions of data\n",
    "for X,T in train_loader: # datapoints and targets\n",
    "    print(X[0].shape) # First image, first channel, all rows, all columns\n",
    "    plt.imshow(X[0,0,:,:].numpy(), cmap='gray') # Plot first image\n",
    "    break\n",
    "#print name of class\n",
    "print(train_dataset.classes[T[0]])"
   ]
  },
  {
   "cell_type": "code",
   "execution_count": 51,
   "metadata": {},
   "outputs": [],
   "source": [
    "# Build the neural network model, which will learn to classify images based on labels\n",
    "\n",
    "class FashionNet(torch.nn.Module):\n",
    "    def __init__(self):\n",
    "        super().__init__() # Call the initialisation method of the neural network module\n",
    "        self.conv1 = nn.Conv2d(in_channels=1, out_channels=64, kernel_size=4, padding=0)\n",
    "        self.conv2 = nn.Conv2d(in_channels=64, out_channels=72, kernel_size=4, padding=0)\n",
    "        self.conv3 = nn.Conv2d(in_channels=72, out_channels=64, kernel_size=4, padding=0)\n",
    "        self.conv4 = nn.Conv2d(in_channels=64, out_channels=32, kernel_size=4, padding=0)\n",
    "        self.fc = nn.Linear(in_features=3*3*32, out_features=10) \n",
    "\n",
    "    def forward(self,x):\n",
    "        x = self.conv1(x) # Apply first convolutional layer\n",
    "        # print(x.shape)\n",
    "        x = F.relu(x)\n",
    "        x = F.max_pool2d(x, kernel_size=2)\n",
    "        x = self.conv2(x)\n",
    "        # print(x.shape)\n",
    "        x = F.relu(x)\n",
    "        x = self.conv3(x)\n",
    "        # print(x.shape)\n",
    "        x = F.relu(x)\n",
    "        x = self.conv4(x)\n",
    "        # print(x.shape)\n",
    "        x = F.relu(x)\n",
    "        x = x.reshape(-1,3*3*32) # Flatten\n",
    "        x = self.fc(x)\n",
    "        # print(x.shape)\n",
    "        return x"
   ]
  },
  {
   "cell_type": "code",
   "execution_count": 67,
   "metadata": {},
   "outputs": [
    {
     "data": {
      "text/plain": [
       "tensor([[-0.0460,  0.0166, -0.0475,  0.0732,  0.0197,  0.0027, -0.0175,  0.0070,\n",
       "          0.0143, -0.0440]], grad_fn=<AddmmBackward0>)"
      ]
     },
     "execution_count": 67,
     "metadata": {},
     "output_type": "execute_result"
    }
   ],
   "source": [
    "# Instantiate\n",
    "fashion_net = FashionNet()\n",
    "fashion_net.forward(X[0:1,:,:,:]) # Forward pass"
   ]
  },
  {
   "cell_type": "code",
   "execution_count": 68,
   "metadata": {},
   "outputs": [],
   "source": [
    "# Define loss function and optimiser\n",
    "loss_function = nn.CrossEntropyLoss()\n",
    "optimiser = optim.Adam(fashion_net.parameters(), lr=0.0005) # momentum estimation"
   ]
  },
  {
   "cell_type": "code",
   "execution_count": 69,
   "metadata": {},
   "outputs": [
    {
     "name": "stderr",
     "output_type": "stream",
     "text": [
      "100%|██████████| 1875/1875 [00:41<00:00, 45.41it/s]\n"
     ]
    },
    {
     "name": "stdout",
     "output_type": "stream",
     "text": [
      "Epoch 1, loss: 0.5650\n"
     ]
    },
    {
     "name": "stderr",
     "output_type": "stream",
     "text": [
      "100%|██████████| 1875/1875 [00:43<00:00, 42.77it/s]\n"
     ]
    },
    {
     "name": "stdout",
     "output_type": "stream",
     "text": [
      "Epoch 2, loss: 0.3583\n"
     ]
    },
    {
     "name": "stderr",
     "output_type": "stream",
     "text": [
      "100%|██████████| 1875/1875 [00:45<00:00, 41.34it/s]\n"
     ]
    },
    {
     "name": "stdout",
     "output_type": "stream",
     "text": [
      "Epoch 3, loss: 0.3038\n"
     ]
    },
    {
     "name": "stderr",
     "output_type": "stream",
     "text": [
      "100%|██████████| 1875/1875 [00:45<00:00, 41.63it/s]\n"
     ]
    },
    {
     "name": "stdout",
     "output_type": "stream",
     "text": [
      "Epoch 4, loss: 0.2705\n"
     ]
    },
    {
     "name": "stderr",
     "output_type": "stream",
     "text": [
      "100%|██████████| 1875/1875 [00:45<00:00, 41.06it/s]\n"
     ]
    },
    {
     "name": "stdout",
     "output_type": "stream",
     "text": [
      "Epoch 5, loss: 0.2457\n"
     ]
    },
    {
     "name": "stderr",
     "output_type": "stream",
     "text": [
      "100%|██████████| 1875/1875 [00:47<00:00, 39.64it/s]\n"
     ]
    },
    {
     "name": "stdout",
     "output_type": "stream",
     "text": [
      "Epoch 6, loss: 0.2261\n"
     ]
    },
    {
     "name": "stderr",
     "output_type": "stream",
     "text": [
      "100%|██████████| 1875/1875 [00:47<00:00, 39.60it/s]\n"
     ]
    },
    {
     "name": "stdout",
     "output_type": "stream",
     "text": [
      "Epoch 7, loss: 0.2089\n"
     ]
    },
    {
     "name": "stderr",
     "output_type": "stream",
     "text": [
      "100%|██████████| 1875/1875 [00:46<00:00, 39.97it/s]\n"
     ]
    },
    {
     "name": "stdout",
     "output_type": "stream",
     "text": [
      "Epoch 8, loss: 0.1930\n"
     ]
    },
    {
     "name": "stderr",
     "output_type": "stream",
     "text": [
      "100%|██████████| 1875/1875 [00:46<00:00, 39.97it/s]\n"
     ]
    },
    {
     "name": "stdout",
     "output_type": "stream",
     "text": [
      "Epoch 9, loss: 0.1767\n"
     ]
    },
    {
     "name": "stderr",
     "output_type": "stream",
     "text": [
      "100%|██████████| 1875/1875 [00:47<00:00, 39.76it/s]"
     ]
    },
    {
     "name": "stdout",
     "output_type": "stream",
     "text": [
      "Epoch 10, loss: 0.1648\n"
     ]
    },
    {
     "name": "stderr",
     "output_type": "stream",
     "text": [
      "\n"
     ]
    }
   ],
   "source": [
    "from tqdm import tqdm # tqdm is a progress bar library\n",
    "losses = [] # Create a list to store the losses\n",
    "for epoch in range(10): # Loop over the epochs\n",
    "  for X, T in tqdm(train_loader): # Loop over the training data\n",
    "    optimiser.zero_grad() # Zero out the gradients so we don't accumulate them\n",
    "    logits = fashion_net(X) # Pass the input through the model to get the logits\n",
    "    loss = loss_function(logits, T) # Calculate the loss\n",
    "    loss.backward() # Backpropagate the loss\n",
    "    optimiser.step() # Update the weights\n",
    "    losses.append(loss.item()) # Append the loss to the list of losses\n",
    "  # print avg loss over the epoch\n",
    "  print(f'Epoch {epoch+1}, loss: {np.mean(losses[-len(train_dataset)//32:]):.4f}')"
   ]
  },
  {
   "cell_type": "code",
   "execution_count": 70,
   "metadata": {},
   "outputs": [
    {
     "name": "stdout",
     "output_type": "stream",
     "text": [
      "tensor(0.9127)\n"
     ]
    },
    {
     "data": {
      "image/png": "[encoded data removed]",
      "text/plain": [
       "<Figure size 640x480 with 1 Axes>"
      ]
     },
     "metadata": {},
     "output_type": "display_data"
    }
   ],
   "source": [
    "# Plot a running average of the loss \n",
    "plt.plot(np.convolve(losses, np.ones(100)/100, mode='valid')) # average over the last 100 batches/timesteps\n",
    "plt.xlabel('Batch')\n",
    "plt.ylabel('Loss')\n",
    "\n",
    "def test_accuracy(fashion_net,test_loader):\n",
    "    correct = 0\n",
    "    total = 0\n",
    "\n",
    "    for X,T in test_loader:\n",
    "        logits = fashion_net(X) # Pass the input through the model to get the logits\n",
    "        predicted = torch.argmax(logits, dim=1) # Get the predicted class\n",
    "        correct += (predicted == T).sum()\n",
    "        total += len(T)\n",
    "    return correct/total\n",
    "\n",
    "# Print test accuracy\n",
    "print(test_accuracy(fashion_net, test_loader))"
   ]
  },
  {
   "cell_type": "code",
   "execution_count": null,
   "metadata": {},
   "outputs": [],
   "source": []
  }
 ],
 "metadata": {
  "kernelspec": {
   "display_name": "ML",
   "language": "python",
   "name": "python3"
  },
  "language_info": {
   "codemirror_mode": {
    "name": "ipython",
    "version": 3
   },
   "file_extension": ".py",
   "mimetype": "text/x-python",
   "name": "python",
   "nbconvert_exporter": "python",
   "pygments_lexer": "ipython3",
   "version": "3.11.5"
  }
 },
 "nbformat": 4,
 "nbformat_minor": 2
}
