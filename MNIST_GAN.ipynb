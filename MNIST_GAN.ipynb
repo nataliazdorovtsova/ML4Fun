{
 "cells": [
  {
   "cell_type": "code",
   "execution_count": 2,
   "metadata": {},
   "outputs": [],
   "source": [
    "# import torch packages\n",
    "import torch\n",
    "import torch.nn as nn\n",
    "import torch.nn.functional as F\n",
    "import torch.optim as optim\n",
    "import torchvision\n",
    "\n",
    "# helper packages\n",
    "import matplotlib.pyplot as plt\n",
    "import tqdm as tqdm\n",
    "import numpy as np"
   ]
  },
  {
   "cell_type": "code",
   "execution_count": 3,
   "metadata": {},
   "outputs": [],
   "source": [
    "# Generate transforms to apply to the images in order to perform data augmentation\n",
    "from torchvision import transforms\n",
    "\n",
    "# Chain together scaling and cropping transformations (and convert to pytorch tensors)\n",
    "transform = transforms.Compose([transforms.RandomAffine(degrees=10,translate=(0.1,0.1),scale=(0.9,1.1),shear=10), transforms.ToTensor()])"
   ]
  },
  {
   "cell_type": "code",
   "execution_count": 6,
   "metadata": {},
   "outputs": [],
   "source": [
    "# Load MNIST training and test datasets using torchvision\n",
    "trainset = torchvision.datasets.MNIST(root='./data', train=True, download=True, transform=transform)\n",
    "testset = torchvision.datasets.MNIST(root='./data', train=False, download=True, transform=transform)"
   ]
  },
  {
   "cell_type": "code",
   "execution_count": 9,
   "metadata": {},
   "outputs": [],
   "source": [
    "# Create training and test dataloaders (batch size of 32)\n",
    "trainloader = torch.utils.data.DataLoader(trainset, batch_size=32, shuffle=True)\n",
    "testloader = torch.utils.data.DataLoader(testset, batch_size=32, shuffle=True)"
   ]
  },
  {
   "cell_type": "code",
   "execution_count": 17,
   "metadata": {},
   "outputs": [
    {
     "name": "stdout",
     "output_type": "stream",
     "text": [
      "torch.Size([32, 1, 28, 28])\n",
      "torch.Size([32])\n"
     ]
    },
    {
     "data": {
      "image/png": "[encoded data removed]",
      "text/plain": [
       "<Figure size 640x480 with 1 Axes>"
      ]
     },
     "metadata": {},
     "output_type": "display_data"
    }
   ],
   "source": [
    "# View MNIST image using MNIST an look at the shape of a batch\n",
    "image, label = next(iter(trainloader))\n",
    "print(image.shape)\n",
    "print(label.shape)\n",
    "\n",
    "# Plot the first image in the batch\n",
    "plt.imshow(image[0,0,:,:], cmap='gray')\n",
    "plt.show()"
   ]
  },
  {
   "cell_type": "code",
   "execution_count": 19,
   "metadata": {},
   "outputs": [],
   "source": [
    "# Build the critic network class (standard convolutional architecture)\n",
    "# The output will be a single value which scores the input image (based on how realistic it is)\n",
    "\n",
    "class Critic(nn.Module):\n",
    "    def __init__(self):\n",
    "        super(Critic,self).__init__()\n",
    "        # This takes in a 28 x 28 image and outputs a single value\n",
    "        self.layers = nn.Sequential(\n",
    "            nn.Conv2d(1, 32, kernel_size = 3, padding = 1), # 28 x 28 x 1 -> 28 x 28 x 32\n",
    "            nn.ReLU(),\n",
    "            nn.MaxPool2d(kernel_size = 2), # 28 x 28 x 32 -> 14 x 14 x 32\n",
    "            nn.Conv2d(32, 64, kernel_size = 3, padding = 1), # 14 x 14 x 32 -> 14 x 14 x 64\n",
    "            nn.ReLU(),\n",
    "            nn.MaxPool2d(kernel_size = 2), # 14 x 14 x 64 -> 7 x 7 x 64\n",
    "            nn.Conv2d(64, 8, kernel_size = 3), # 7 x 7 x 64 -> 5 x 5 x 8\n",
    "            nn.Flatten(), \n",
    "            nn.Linear(5*5*8, 1), # 5 x 5 x 8 -> 1\n",
    "            nn.Tanh()\n",
    "        )\n",
    "    # Put image through layers and return output\n",
    "    def forward(self, x):\n",
    "        return self.layers(x)\n",
    "        "
   ]
  },
  {
   "cell_type": "code",
   "execution_count": 32,
   "metadata": {},
   "outputs": [],
   "source": [
    "# Build the generator network class (standard convolutional architecture)\n",
    "# The generator takes in a random vector and outputs a 28 x 28 image\n",
    "# The random vector is a 24 dimensional Gaussian distribution with mean 0 and variance 1\n",
    "# The generator network will have a standard deconv architecture\n",
    "\n",
    "class Generator(nn.Module):\n",
    "    def __init__(self):\n",
    "        super(Generator, self).__init__()\n",
    "        # This takes in a 24 dimensional vector and outputs a 28 x 28 image\n",
    "        self.layers = nn.Sequential(\n",
    "            nn.Linear(24, 5*5*8), \n",
    "            nn.Unflatten(1, (8, 5, 5)),\n",
    "            nn.ConvTranspose2d(8, 64, kernel_size = 3), \n",
    "            nn.ReLU(),\n",
    "            nn.ConvTranspose2d(64, 32, kernel_size = 3, padding = 1), \n",
    "            nn.ReLU(),\n",
    "            nn.Upsample(scale_factor = 2),\n",
    "            nn.ConvTranspose2d(32, 16, kernel_size = 3, padding = 1), \n",
    "            nn.ReLU(),\n",
    "            nn.Upsample(scale_factor = 2),\n",
    "            nn.ConvTranspose2d(16, 1, kernel_size = 3, padding = 1),\n",
    "            nn.Sigmoid()\n",
    "        )   \n",
    "    # Put random vector through layers and return output\n",
    "    def forward(self, x):\n",
    "        return self.layers(x)\n"
   ]
  },
  {
   "cell_type": "code",
   "execution_count": 33,
   "metadata": {},
   "outputs": [],
   "source": [
    "# Instantiate the generator and critic\n",
    "generator = Generator()\n",
    "critic = Critic()"
   ]
  },
  {
   "cell_type": "code",
   "execution_count": 34,
   "metadata": {},
   "outputs": [],
   "source": [
    "# Define optimisers for generator and critic\n",
    "g_optimiser = optim.Adam(generator.parameters(), lr=0.0005)\n",
    "c_optimiser = optim.Adam(critic.parameters(), lr=0.0005)"
   ]
  },
  {
   "cell_type": "code",
   "execution_count": 35,
   "metadata": {},
   "outputs": [],
   "source": [
    "# Define a list to store the losses for the two networks\n",
    "c_losses = []\n",
    "g_losses = []"
   ]
  },
  {
   "cell_type": "code",
   "execution_count": 36,
   "metadata": {},
   "outputs": [
    {
     "name": "stderr",
     "output_type": "stream",
     "text": [
      "100%|██████████| 1875/1875 [09:11<00:00,  3.40it/s]\n",
      "100%|██████████| 1875/1875 [20:10<00:00,  1.55it/s]\n",
      "100%|██████████| 1875/1875 [1:10:13<00:00,  2.25s/it]     \n"
     ]
    }
   ],
   "source": [
    "# Train generator and critic networks using Wasserstein loss with l2 weight regularisation\n",
    "# Wasserstein loss for the critic network is C(G(Z)) - C(X) where Z is a random vector and X is a real image\n",
    "# This encourages the critic to score real images highly and generated images poorly\n",
    "# The generator loss is -C(G(Z)) which encourages the generator to produce images that score highly with the critic\n",
    "\n",
    "def train_one_epoch():\n",
    "    # Iterate over training data\n",
    "    for real_images, label in tqdm.tqdm(trainloader):\n",
    "        # Zero the gradients\n",
    "        c_optimiser.zero_grad()\n",
    "        # generate random vector\n",
    "        z = torch.randn(32,24)\n",
    "        # Pass random vector through generator\n",
    "        fake_image = generator(z)\n",
    "        critic_loss = critic(fake_image).mean() - critic(real_images).mean()\n",
    "        critic_loss.backward()\n",
    "        c_losses.append(critic_loss.item())\n",
    "        c_optimiser.step()\n",
    "\n",
    "        # train the generator\n",
    "        # zero gradients for the generator\n",
    "        g_optimiser.zero_grad()\n",
    "        # generate random vector\n",
    "        z = torch.randn(32,24)\n",
    "        # Pass random vector through generator\n",
    "        fake_image = generator(z)\n",
    "        generator_loss = -critic(fake_image).mean()\n",
    "        generator_loss.backward()\n",
    "        g_losses.append(generator_loss.item())\n",
    "        g_optimiser.step()\n",
    "\n",
    "for i in range(3):\n",
    "    train_one_epoch()\n",
    "    print(np.mean(g_losses), np.mean(c_losses))"
   ]
  },
  {
   "cell_type": "code",
   "execution_count": 37,
   "metadata": {},
   "outputs": [
    {
     "data": {
      "image/png": "[encoded data removed]",
      "text/plain": [
       "<Figure size 640x480 with 1 Axes>"
      ]
     },
     "metadata": {},
     "output_type": "display_data"
    }
   ],
   "source": [
    "# Plot the losses for the generator and critic networks\n",
    "plt.plot(c_losses, label='critic loss')\n",
    "plt.plot(g_losses, label='generator loss')\n",
    "plt.legend()\n",
    "plt.show()"
   ]
  }
 ],
 "metadata": {
  "kernelspec": {
   "display_name": "ML",
   "language": "python",
   "name": "python3"
  },
  "language_info": {
   "codemirror_mode": {
    "name": "ipython",
    "version": 3
   },
   "file_extension": ".py",
   "mimetype": "text/x-python",
   "name": "python",
   "nbconvert_exporter": "python",
   "pygments_lexer": "ipython3",
   "version": "3.11.5"
  }
 },
 "nbformat": 4,
 "nbformat_minor": 2
}
