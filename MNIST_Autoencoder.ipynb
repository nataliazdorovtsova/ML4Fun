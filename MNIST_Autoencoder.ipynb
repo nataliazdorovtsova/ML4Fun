{
 "cells": [
  {
   "cell_type": "code",
   "execution_count": null,
   "metadata": {},
   "outputs": [],
   "source": [
    "import torch.nn as nn\n",
    "import torch.nn.functional as F\n",
    "import torch\n",
    "import torch.optim as optim\n",
    "import numpy as np\n",
    "import torchvision as tv "
   ]
  },
  {
   "cell_type": "code",
   "execution_count": null,
   "metadata": {},
   "outputs": [],
   "source": [
    "# Create dataloaders for training and testing \n",
    "train_dataset = tv.datasets.MNIST(root='./data', train=True, transform=tv.transforms.ToTensor(), download=True)\n",
    "test_dataset = tv.datasets.MNIST(root='./data', train=False, transform=tv.transforms.ToTensor(), download=True)\n",
    "\n",
    "# Batch size of 32, shuffle the data, and load the data\n",
    "train_loader = torch.utils.data.DataLoader(dataset=train_dataset, batch_size=32, shuffle=True) # Training loader\n",
    "test_loader = torch.utils.data.DataLoader(dataset=test_dataset, batch_size=32, shuffle=False) # Testing loader"
   ]
  },
  {
   "cell_type": "code",
   "execution_count": null,
   "metadata": {},
   "outputs": [],
   "source": [
    "# Rule about convolutions: if we have an h x h image, and a k x k kernel, the new size of our image following a convolution is (h-k+1) x (h-k+1)\n",
    "\n",
    "class AutoEncoder(nn.Module):\n",
    "    def __init__(self):\n",
    "        super(AutoEncoder, self).__init__()\n",
    "        # A module dict is just a container for modules\n",
    "        self.encoder = nn.Sequential(\n",
    "            nn.Conv2d(1, 16, kernel_size=3), \n",
    "            nn.ReLU(True),\n",
    "            nn.MaxPool2d(2, stride=2), # 16 x 13 x 13\n",
    "            nn.Conv2d(16,32,kernel_size=4), # 32 x 10 x 10\n",
    "            nn.ReLU(True),\n",
    "            nn.MaxPool2d(2, stride=2), # 32 x 5 x 5\n",
    "            nn.Conv2d(32, 8, kernel_size=2), # 8 x 4 x 4\n",
    "            nn.ReLU(True),\n",
    "            # Flatten the output of the convolutional layers\n",
    "            nn.Flatten(),\n",
    "            nn.Linear(8*4*4, 16), # 16 outputs\n",
    "            nn.ReLU(True)\n",
    "        )\n",
    "\n",
    "        self.decoder = nn.ModuleDict({\n",
    "            'fc': nn.Linear(16, 8*6*6), # fully connected layer\n",
    "            'Deconv1': nn.ConvTranspose2d(8, 32, kernel_size=3), # Deconvolutional layer\n",
    "            'Deconv2': nn.ConvTranspose2d(32, 16, kernel_size=5), # Deconvolutional layer\n",
    "            'Deconv3': nn.ConvTranspose2d(16, 1, kernel_size=5) # Deconvolutional layer\n",
    "        })\n",
    "\n",
    "    def forward(self, x):\n",
    "        z = self.encoder(x) # Neural network sequential object - passes data through each of the layers in turn (unlike a dict)\n",
    "        z = self.decoder['fc'](z)\n",
    "        z = F.relu(z)\n",
    "        z = z.view(-1, 8, 6, 6) #(8, 6, 6)\n",
    "        z = self.decoder['Deconv1'](z) # (32, 8, 8)\n",
    "        z = F.relu(z)\n",
    "        z = self.decoder['Deconv2'](z) # (16, 12, 12)\n",
    "        z = F.relu(z)\n",
    "        z = F.interpolate(z, scale_factor=2) # double the size of the image (16, 24, 24)\n",
    "        z = self.decoder['Deconv3'](z) # (16, 28, 28)\n",
    "        return z\n"
   ]
  },
  {
   "cell_type": "code",
   "execution_count": null,
   "metadata": {},
   "outputs": [],
   "source": [
    "# Create an instance of the autoencoder\n",
    "\n",
    "autoencoder = AutoEncoder()\n",
    "data, target = next(iter(train_loader))\n",
    "print(data.shape)\n",
    "autoencoder(data).shape\n"
   ]
  },
  {
   "cell_type": "code",
   "execution_count": null,
   "metadata": {},
   "outputs": [],
   "source": [
    "# Train the network\n",
    "optimiser = torch.optim.Adam(autoencoder.parameters(), lr=0.001)\n",
    "\n",
    "# MSE loss\n",
    "loss_function = nn.MSELoss()"
   ]
  },
  {
   "cell_type": "code",
   "execution_count": null,
   "metadata": {},
   "outputs": [],
   "source": [
    "# Training loop\n",
    "from tqdm import tqdm # tqdm is a progress bar library\n",
    "\n",
    "losses = []\n",
    "for epoch in range(2):\n",
    "    for data, target in tqdm(train_loader):\n",
    "        optimiser.zero_grad()\n",
    "        output = autoencoder(data)\n",
    "        loss = loss_function(output, data)\n",
    "        loss.backward()\n",
    "        optimiser.step()\n",
    "        losses.append(loss.detach().numpy())"
   ]
  },
  {
   "cell_type": "code",
   "execution_count": null,
   "metadata": {},
   "outputs": [],
   "source": [
    "# Plot smoothed losses\n",
    "import matplotlib.pyplot as plt\n",
    "plt.plot(np.convolve(losses, np.ones(100)/100, mode='valid'))\n",
    "plt.xlabel('Iterations')\n",
    "plt.ylabel('Loss')\n",
    "plt.show()"
   ]
  },
  {
   "cell_type": "code",
   "execution_count": null,
   "metadata": {},
   "outputs": [],
   "source": [
    "# Look at some image reconstructions\n",
    "examples = enumerate(test_loader)\n",
    "batch_idx, (example_data, example_targets) = next(examples)\n",
    "with torch.no_grad():\n",
    "    output = autoencoder(example_data)\n",
    "    plt.imshow(example_data[0][0], cmap='gray')\n",
    "    plt.show()\n",
    "    plt.imshow(output[0][0], cmap='gray')\n",
    "    plt.show()"
   ]
  }
 ],
 "metadata": {
  "kernelspec": {
   "display_name": "ML",
   "language": "python",
   "name": "python3"
  },
  "language_info": {
   "codemirror_mode": {
    "name": "ipython",
    "version": 3
   },
   "file_extension": ".py",
   "mimetype": "text/x-python",
   "name": "python",
   "nbconvert_exporter": "python",
   "pygments_lexer": "ipython3",
   "version": "3.11.5"
  }
 },
 "nbformat": 4,
 "nbformat_minor": 2
}
